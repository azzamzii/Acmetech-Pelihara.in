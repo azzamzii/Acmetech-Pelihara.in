{
  "cells": [
    {
      "cell_type": "code",
      "execution_count": null,
      "metadata": {
        "colab": {
          "base_uri": "https://localhost:8080/"
        },
        "id": "8Y6w3KxJrkiU",
        "outputId": "645d1805-ad66-480e-fe9c-b912abc89a5e"
      },
      "outputs": [
        {
          "output_type": "stream",
          "name": "stdout",
          "text": [
            "Mounted at /content/drive\n"
          ]
        }
      ],
      "source": [
        "import pandas as pd\n",
        "import numpy as np\n",
        "from google.colab import drive\n",
        "drive.mount('/content/drive')"
      ]
    },
    {
      "cell_type": "code",
      "execution_count": null,
      "metadata": {
        "colab": {
          "base_uri": "https://localhost:8080/",
          "height": 340
        },
        "id": "Q8VJkOnJrl0e",
        "outputId": "9b5cea60-924f-47bd-c47d-8d6ecb76d412"
      },
      "outputs": [
        {
          "output_type": "execute_result",
          "data": {
            "text/plain": [
              "    hewan              diagnosa  jumlah_hewan_yang_diperiksa  \\\n",
              "0  Anjing                 Abses                          1.0   \n",
              "1  Anjing               Abortus                          0.0   \n",
              "2  Anjing        Aggenesis Anni                          0.0   \n",
              "3  Anjing  Alergi Saluran Nafas                          0.0   \n",
              "4  Anjing              Anorexia                          0.0   \n",
              "\n",
              "                                          pengobatan  \n",
              "0  Cefotaxime,dexamethason,biosolamin,septo skin ...  \n",
              "1                   Vetoxy LA, Vit B-Comp, Sulpidone  \n",
              "2                                  OP PEMBUATAN ANUS  \n",
              "3                    Vitol ADE, Vetadryl, Vit B-Comp  \n",
              "4                                         Vit B-Comp  "
            ],
            "text/html": [
              "\n",
              "  <div id=\"df-6c097604-29be-484b-b4f9-627b8c46dbed\">\n",
              "    <div class=\"colab-df-container\">\n",
              "      <div>\n",
              "<style scoped>\n",
              "    .dataframe tbody tr th:only-of-type {\n",
              "        vertical-align: middle;\n",
              "    }\n",
              "\n",
              "    .dataframe tbody tr th {\n",
              "        vertical-align: top;\n",
              "    }\n",
              "\n",
              "    .dataframe thead th {\n",
              "        text-align: right;\n",
              "    }\n",
              "</style>\n",
              "<table border=\"1\" class=\"dataframe\">\n",
              "  <thead>\n",
              "    <tr style=\"text-align: right;\">\n",
              "      <th></th>\n",
              "      <th>hewan</th>\n",
              "      <th>diagnosa</th>\n",
              "      <th>jumlah_hewan_yang_diperiksa</th>\n",
              "      <th>pengobatan</th>\n",
              "    </tr>\n",
              "  </thead>\n",
              "  <tbody>\n",
              "    <tr>\n",
              "      <th>0</th>\n",
              "      <td>Anjing</td>\n",
              "      <td>Abses</td>\n",
              "      <td>1.0</td>\n",
              "      <td>Cefotaxime,dexamethason,biosolamin,septo skin ...</td>\n",
              "    </tr>\n",
              "    <tr>\n",
              "      <th>1</th>\n",
              "      <td>Anjing</td>\n",
              "      <td>Abortus</td>\n",
              "      <td>0.0</td>\n",
              "      <td>Vetoxy LA, Vit B-Comp, Sulpidone</td>\n",
              "    </tr>\n",
              "    <tr>\n",
              "      <th>2</th>\n",
              "      <td>Anjing</td>\n",
              "      <td>Aggenesis Anni</td>\n",
              "      <td>0.0</td>\n",
              "      <td>OP PEMBUATAN ANUS</td>\n",
              "    </tr>\n",
              "    <tr>\n",
              "      <th>3</th>\n",
              "      <td>Anjing</td>\n",
              "      <td>Alergi Saluran Nafas</td>\n",
              "      <td>0.0</td>\n",
              "      <td>Vitol ADE, Vetadryl, Vit B-Comp</td>\n",
              "    </tr>\n",
              "    <tr>\n",
              "      <th>4</th>\n",
              "      <td>Anjing</td>\n",
              "      <td>Anorexia</td>\n",
              "      <td>0.0</td>\n",
              "      <td>Vit B-Comp</td>\n",
              "    </tr>\n",
              "  </tbody>\n",
              "</table>\n",
              "</div>\n",
              "      <button class=\"colab-df-convert\" onclick=\"convertToInteractive('df-6c097604-29be-484b-b4f9-627b8c46dbed')\"\n",
              "              title=\"Convert this dataframe to an interactive table.\"\n",
              "              style=\"display:none;\">\n",
              "        \n",
              "  <svg xmlns=\"http://www.w3.org/2000/svg\" height=\"24px\"viewBox=\"0 0 24 24\"\n",
              "       width=\"24px\">\n",
              "    <path d=\"M0 0h24v24H0V0z\" fill=\"none\"/>\n",
              "    <path d=\"M18.56 5.44l.94 2.06.94-2.06 2.06-.94-2.06-.94-.94-2.06-.94 2.06-2.06.94zm-11 1L8.5 8.5l.94-2.06 2.06-.94-2.06-.94L8.5 2.5l-.94 2.06-2.06.94zm10 10l.94 2.06.94-2.06 2.06-.94-2.06-.94-.94-2.06-.94 2.06-2.06.94z\"/><path d=\"M17.41 7.96l-1.37-1.37c-.4-.4-.92-.59-1.43-.59-.52 0-1.04.2-1.43.59L10.3 9.45l-7.72 7.72c-.78.78-.78 2.05 0 2.83L4 21.41c.39.39.9.59 1.41.59.51 0 1.02-.2 1.41-.59l7.78-7.78 2.81-2.81c.8-.78.8-2.07 0-2.86zM5.41 20L4 18.59l7.72-7.72 1.47 1.35L5.41 20z\"/>\n",
              "  </svg>\n",
              "      </button>\n",
              "      \n",
              "  <style>\n",
              "    .colab-df-container {\n",
              "      display:flex;\n",
              "      flex-wrap:wrap;\n",
              "      gap: 12px;\n",
              "    }\n",
              "\n",
              "    .colab-df-convert {\n",
              "      background-color: #E8F0FE;\n",
              "      border: none;\n",
              "      border-radius: 50%;\n",
              "      cursor: pointer;\n",
              "      display: none;\n",
              "      fill: #1967D2;\n",
              "      height: 32px;\n",
              "      padding: 0 0 0 0;\n",
              "      width: 32px;\n",
              "    }\n",
              "\n",
              "    .colab-df-convert:hover {\n",
              "      background-color: #E2EBFA;\n",
              "      box-shadow: 0px 1px 2px rgba(60, 64, 67, 0.3), 0px 1px 3px 1px rgba(60, 64, 67, 0.15);\n",
              "      fill: #174EA6;\n",
              "    }\n",
              "\n",
              "    [theme=dark] .colab-df-convert {\n",
              "      background-color: #3B4455;\n",
              "      fill: #D2E3FC;\n",
              "    }\n",
              "\n",
              "    [theme=dark] .colab-df-convert:hover {\n",
              "      background-color: #434B5C;\n",
              "      box-shadow: 0px 1px 3px 1px rgba(0, 0, 0, 0.15);\n",
              "      filter: drop-shadow(0px 1px 2px rgba(0, 0, 0, 0.3));\n",
              "      fill: #FFFFFF;\n",
              "    }\n",
              "  </style>\n",
              "\n",
              "      <script>\n",
              "        const buttonEl =\n",
              "          document.querySelector('#df-6c097604-29be-484b-b4f9-627b8c46dbed button.colab-df-convert');\n",
              "        buttonEl.style.display =\n",
              "          google.colab.kernel.accessAllowed ? 'block' : 'none';\n",
              "\n",
              "        async function convertToInteractive(key) {\n",
              "          const element = document.querySelector('#df-6c097604-29be-484b-b4f9-627b8c46dbed');\n",
              "          const dataTable =\n",
              "            await google.colab.kernel.invokeFunction('convertToInteractive',\n",
              "                                                     [key], {});\n",
              "          if (!dataTable) return;\n",
              "\n",
              "          const docLinkHtml = 'Like what you see? Visit the ' +\n",
              "            '<a target=\"_blank\" href=https://colab.research.google.com/notebooks/data_table.ipynb>data table notebook</a>'\n",
              "            + ' to learn more about interactive tables.';\n",
              "          element.innerHTML = '';\n",
              "          dataTable['output_type'] = 'display_data';\n",
              "          await google.colab.output.renderOutput(dataTable, element);\n",
              "          const docLink = document.createElement('div');\n",
              "          docLink.innerHTML = docLinkHtml;\n",
              "          element.appendChild(docLink);\n",
              "        }\n",
              "      </script>\n",
              "    </div>\n",
              "  </div>\n",
              "  "
            ]
          },
          "metadata": {},
          "execution_count": 2
        }
      ],
      "source": [
        "df = pd.read_csv('/content/drive/MyDrive/GOOGLE BANGKIT - 2023/capstone/dataset/data-jumlah-pelayanan-kesehatan-hewan-bulan-januari-tahun-2020.csv')\n",
        "df.head()"
      ]
    },
    {
      "cell_type": "code",
      "execution_count": null,
      "metadata": {
        "colab": {
          "base_uri": "https://localhost:8080/"
        },
        "id": "cAOH_PXL9Z8K",
        "outputId": "98ba98b8-a60c-4dd7-e118-22445f732e1c"
      },
      "outputs": [
        {
          "output_type": "execute_result",
          "data": {
            "text/plain": [
              "14"
            ]
          },
          "metadata": {},
          "execution_count": 3
        }
      ],
      "source": [
        "df['hewan'].nunique()"
      ]
    },
    {
      "cell_type": "code",
      "execution_count": null,
      "metadata": {
        "colab": {
          "base_uri": "https://localhost:8080/"
        },
        "id": "Andiza8l-UAb",
        "outputId": "107fa753-8192-4e9a-8c80-376850803f9b"
      },
      "outputs": [
        {
          "output_type": "execute_result",
          "data": {
            "text/plain": [
              "array(['Anjing', 'Kucing', 'Unggas', 'Kera', 'Musang', 'Sugar Glider',\n",
              "       'Tokek', 'Ular', 'kura-kura', 'Kelinci', 'Sapi Perah',\n",
              "       'Sapi potong', 'kambing', 'Kerbau'], dtype=object)"
            ]
          },
          "metadata": {},
          "execution_count": 4
        }
      ],
      "source": [
        "df['hewan'].unique()"
      ]
    },
    {
      "cell_type": "code",
      "execution_count": null,
      "metadata": {
        "colab": {
          "base_uri": "https://localhost:8080/"
        },
        "id": "v7p68E7h_D64",
        "outputId": "4d9852fe-15e6-4e5c-fe52-6848d5a060d7"
      },
      "outputs": [
        {
          "output_type": "execute_result",
          "data": {
            "text/plain": [
              "(1204, 4)"
            ]
          },
          "metadata": {},
          "execution_count": 5
        }
      ],
      "source": [
        "df.shape"
      ]
    },
    {
      "cell_type": "code",
      "execution_count": null,
      "metadata": {
        "id": "N_eYA2dW-7ln"
      },
      "outputs": [],
      "source": [
        "df = df.drop_duplicates()"
      ]
    },
    {
      "cell_type": "code",
      "execution_count": null,
      "metadata": {
        "colab": {
          "base_uri": "https://localhost:8080/"
        },
        "id": "chYBWHl__GOj",
        "outputId": "0090e786-e199-437f-9fd9-58d9d17ff90e"
      },
      "outputs": [
        {
          "output_type": "execute_result",
          "data": {
            "text/plain": [
              "(1204, 4)"
            ]
          },
          "metadata": {},
          "execution_count": 7
        }
      ],
      "source": [
        "df.shape"
      ]
    },
    {
      "cell_type": "code",
      "execution_count": null,
      "metadata": {
        "id": "B7z2XlpF-X4K"
      },
      "outputs": [],
      "source": [
        "df_anjing = df[df['hewan']=='Anjing']"
      ]
    },
    {
      "cell_type": "code",
      "execution_count": null,
      "metadata": {
        "colab": {
          "base_uri": "https://localhost:8080/",
          "height": 557
        },
        "id": "U27MGYIo-eUt",
        "outputId": "36f8e4b9-f255-4df4-9eda-5bd21ff0460a"
      },
      "outputs": [
        {
          "output_type": "execute_result",
          "data": {
            "text/plain": [
              "     hewan              diagnosa  jumlah_hewan_yang_diperiksa  \\\n",
              "0   Anjing                 Abses                          1.0   \n",
              "1   Anjing               Abortus                          0.0   \n",
              "2   Anjing        Aggenesis Anni                          0.0   \n",
              "3   Anjing  Alergi Saluran Nafas                          0.0   \n",
              "4   Anjing              Anorexia                          0.0   \n",
              "..     ...                   ...                          ...   \n",
              "81  Anjing        Sporotrichosis                          0.0   \n",
              "82  Anjing                Sprain                          0.0   \n",
              "83  Anjing                 Tumor                          0.0   \n",
              "84  Anjing               Uveitis                          0.0   \n",
              "85  Anjing                Vulnus                          2.0   \n",
              "\n",
              "                                           pengobatan  \n",
              "0   Cefotaxime,dexamethason,biosolamin,septo skin ...  \n",
              "1                    Vetoxy LA, Vit B-Comp, Sulpidone  \n",
              "2                                   OP PEMBUATAN ANUS  \n",
              "3                     Vitol ADE, Vetadryl, Vit B-Comp  \n",
              "4                                          Vit B-Comp  \n",
              "..                                                ...  \n",
              "81                                 BETAMOX, VETADRYL   \n",
              "82                Bethamox, Vit B-Comp, Dexamethasone  \n",
              "83               Operasi angkat tumor, betamox, vitol  \n",
              "84                  LIMOXIN , DEXA , HEMATOPAN BIODIN  \n",
              "85  Cefotaxime,roborante,dexamethason,biosolamin, ...  \n",
              "\n",
              "[86 rows x 4 columns]"
            ],
            "text/html": [
              "\n",
              "  <div id=\"df-62e82e98-2f36-45d8-bf49-fa5ba7cbec81\">\n",
              "    <div class=\"colab-df-container\">\n",
              "      <div>\n",
              "<style scoped>\n",
              "    .dataframe tbody tr th:only-of-type {\n",
              "        vertical-align: middle;\n",
              "    }\n",
              "\n",
              "    .dataframe tbody tr th {\n",
              "        vertical-align: top;\n",
              "    }\n",
              "\n",
              "    .dataframe thead th {\n",
              "        text-align: right;\n",
              "    }\n",
              "</style>\n",
              "<table border=\"1\" class=\"dataframe\">\n",
              "  <thead>\n",
              "    <tr style=\"text-align: right;\">\n",
              "      <th></th>\n",
              "      <th>hewan</th>\n",
              "      <th>diagnosa</th>\n",
              "      <th>jumlah_hewan_yang_diperiksa</th>\n",
              "      <th>pengobatan</th>\n",
              "    </tr>\n",
              "  </thead>\n",
              "  <tbody>\n",
              "    <tr>\n",
              "      <th>0</th>\n",
              "      <td>Anjing</td>\n",
              "      <td>Abses</td>\n",
              "      <td>1.0</td>\n",
              "      <td>Cefotaxime,dexamethason,biosolamin,septo skin ...</td>\n",
              "    </tr>\n",
              "    <tr>\n",
              "      <th>1</th>\n",
              "      <td>Anjing</td>\n",
              "      <td>Abortus</td>\n",
              "      <td>0.0</td>\n",
              "      <td>Vetoxy LA, Vit B-Comp, Sulpidone</td>\n",
              "    </tr>\n",
              "    <tr>\n",
              "      <th>2</th>\n",
              "      <td>Anjing</td>\n",
              "      <td>Aggenesis Anni</td>\n",
              "      <td>0.0</td>\n",
              "      <td>OP PEMBUATAN ANUS</td>\n",
              "    </tr>\n",
              "    <tr>\n",
              "      <th>3</th>\n",
              "      <td>Anjing</td>\n",
              "      <td>Alergi Saluran Nafas</td>\n",
              "      <td>0.0</td>\n",
              "      <td>Vitol ADE, Vetadryl, Vit B-Comp</td>\n",
              "    </tr>\n",
              "    <tr>\n",
              "      <th>4</th>\n",
              "      <td>Anjing</td>\n",
              "      <td>Anorexia</td>\n",
              "      <td>0.0</td>\n",
              "      <td>Vit B-Comp</td>\n",
              "    </tr>\n",
              "    <tr>\n",
              "      <th>...</th>\n",
              "      <td>...</td>\n",
              "      <td>...</td>\n",
              "      <td>...</td>\n",
              "      <td>...</td>\n",
              "    </tr>\n",
              "    <tr>\n",
              "      <th>81</th>\n",
              "      <td>Anjing</td>\n",
              "      <td>Sporotrichosis</td>\n",
              "      <td>0.0</td>\n",
              "      <td>BETAMOX, VETADRYL</td>\n",
              "    </tr>\n",
              "    <tr>\n",
              "      <th>82</th>\n",
              "      <td>Anjing</td>\n",
              "      <td>Sprain</td>\n",
              "      <td>0.0</td>\n",
              "      <td>Bethamox, Vit B-Comp, Dexamethasone</td>\n",
              "    </tr>\n",
              "    <tr>\n",
              "      <th>83</th>\n",
              "      <td>Anjing</td>\n",
              "      <td>Tumor</td>\n",
              "      <td>0.0</td>\n",
              "      <td>Operasi angkat tumor, betamox, vitol</td>\n",
              "    </tr>\n",
              "    <tr>\n",
              "      <th>84</th>\n",
              "      <td>Anjing</td>\n",
              "      <td>Uveitis</td>\n",
              "      <td>0.0</td>\n",
              "      <td>LIMOXIN , DEXA , HEMATOPAN BIODIN</td>\n",
              "    </tr>\n",
              "    <tr>\n",
              "      <th>85</th>\n",
              "      <td>Anjing</td>\n",
              "      <td>Vulnus</td>\n",
              "      <td>2.0</td>\n",
              "      <td>Cefotaxime,roborante,dexamethason,biosolamin, ...</td>\n",
              "    </tr>\n",
              "  </tbody>\n",
              "</table>\n",
              "<p>86 rows × 4 columns</p>\n",
              "</div>\n",
              "      <button class=\"colab-df-convert\" onclick=\"convertToInteractive('df-62e82e98-2f36-45d8-bf49-fa5ba7cbec81')\"\n",
              "              title=\"Convert this dataframe to an interactive table.\"\n",
              "              style=\"display:none;\">\n",
              "        \n",
              "  <svg xmlns=\"http://www.w3.org/2000/svg\" height=\"24px\"viewBox=\"0 0 24 24\"\n",
              "       width=\"24px\">\n",
              "    <path d=\"M0 0h24v24H0V0z\" fill=\"none\"/>\n",
              "    <path d=\"M18.56 5.44l.94 2.06.94-2.06 2.06-.94-2.06-.94-.94-2.06-.94 2.06-2.06.94zm-11 1L8.5 8.5l.94-2.06 2.06-.94-2.06-.94L8.5 2.5l-.94 2.06-2.06.94zm10 10l.94 2.06.94-2.06 2.06-.94-2.06-.94-.94-2.06-.94 2.06-2.06.94z\"/><path d=\"M17.41 7.96l-1.37-1.37c-.4-.4-.92-.59-1.43-.59-.52 0-1.04.2-1.43.59L10.3 9.45l-7.72 7.72c-.78.78-.78 2.05 0 2.83L4 21.41c.39.39.9.59 1.41.59.51 0 1.02-.2 1.41-.59l7.78-7.78 2.81-2.81c.8-.78.8-2.07 0-2.86zM5.41 20L4 18.59l7.72-7.72 1.47 1.35L5.41 20z\"/>\n",
              "  </svg>\n",
              "      </button>\n",
              "      \n",
              "  <style>\n",
              "    .colab-df-container {\n",
              "      display:flex;\n",
              "      flex-wrap:wrap;\n",
              "      gap: 12px;\n",
              "    }\n",
              "\n",
              "    .colab-df-convert {\n",
              "      background-color: #E8F0FE;\n",
              "      border: none;\n",
              "      border-radius: 50%;\n",
              "      cursor: pointer;\n",
              "      display: none;\n",
              "      fill: #1967D2;\n",
              "      height: 32px;\n",
              "      padding: 0 0 0 0;\n",
              "      width: 32px;\n",
              "    }\n",
              "\n",
              "    .colab-df-convert:hover {\n",
              "      background-color: #E2EBFA;\n",
              "      box-shadow: 0px 1px 2px rgba(60, 64, 67, 0.3), 0px 1px 3px 1px rgba(60, 64, 67, 0.15);\n",
              "      fill: #174EA6;\n",
              "    }\n",
              "\n",
              "    [theme=dark] .colab-df-convert {\n",
              "      background-color: #3B4455;\n",
              "      fill: #D2E3FC;\n",
              "    }\n",
              "\n",
              "    [theme=dark] .colab-df-convert:hover {\n",
              "      background-color: #434B5C;\n",
              "      box-shadow: 0px 1px 3px 1px rgba(0, 0, 0, 0.15);\n",
              "      filter: drop-shadow(0px 1px 2px rgba(0, 0, 0, 0.3));\n",
              "      fill: #FFFFFF;\n",
              "    }\n",
              "  </style>\n",
              "\n",
              "      <script>\n",
              "        const buttonEl =\n",
              "          document.querySelector('#df-62e82e98-2f36-45d8-bf49-fa5ba7cbec81 button.colab-df-convert');\n",
              "        buttonEl.style.display =\n",
              "          google.colab.kernel.accessAllowed ? 'block' : 'none';\n",
              "\n",
              "        async function convertToInteractive(key) {\n",
              "          const element = document.querySelector('#df-62e82e98-2f36-45d8-bf49-fa5ba7cbec81');\n",
              "          const dataTable =\n",
              "            await google.colab.kernel.invokeFunction('convertToInteractive',\n",
              "                                                     [key], {});\n",
              "          if (!dataTable) return;\n",
              "\n",
              "          const docLinkHtml = 'Like what you see? Visit the ' +\n",
              "            '<a target=\"_blank\" href=https://colab.research.google.com/notebooks/data_table.ipynb>data table notebook</a>'\n",
              "            + ' to learn more about interactive tables.';\n",
              "          element.innerHTML = '';\n",
              "          dataTable['output_type'] = 'display_data';\n",
              "          await google.colab.output.renderOutput(dataTable, element);\n",
              "          const docLink = document.createElement('div');\n",
              "          docLink.innerHTML = docLinkHtml;\n",
              "          element.appendChild(docLink);\n",
              "        }\n",
              "      </script>\n",
              "    </div>\n",
              "  </div>\n",
              "  "
            ]
          },
          "metadata": {},
          "execution_count": 9
        }
      ],
      "source": [
        "df_anjing"
      ]
    },
    {
      "cell_type": "code",
      "execution_count": null,
      "metadata": {
        "id": "TspkEycQ-fsy"
      },
      "outputs": [],
      "source": [
        "df_kucing = df[df['hewan']=='Kucing']"
      ]
    },
    {
      "cell_type": "code",
      "execution_count": null,
      "metadata": {
        "id": "S2AvWaNB961W"
      },
      "outputs": [],
      "source": [
        "df_kucing.to_json('data_kucing.json', orient='records')"
      ]
    },
    {
      "cell_type": "code",
      "source": [
        "data_anjing = pd.read_json('/content/drive/MyDrive/GOOGLE BANGKIT - 2023/capstone/dataset/data_anjing.json')\n",
        "data_kucing = pd.read_json('/content/drive/MyDrive/GOOGLE BANGKIT - 2023/capstone/dataset/data_kucing.json')\n"
      ],
      "metadata": {
        "id": "p5Fr-ldJkrU-"
      },
      "execution_count": null,
      "outputs": []
    },
    {
      "cell_type": "code",
      "source": [
        "data_anjing"
      ],
      "metadata": {
        "colab": {
          "base_uri": "https://localhost:8080/",
          "height": 557
        },
        "id": "UqGAU0gck9ON",
        "outputId": "f8bee824-18dc-43dd-83c3-16d9dd7036e6"
      },
      "execution_count": null,
      "outputs": [
        {
          "output_type": "execute_result",
          "data": {
            "text/plain": [
              "     hewan              diagnosa  jumlah_hewan_yang_diperiksa  \\\n",
              "0   Anjing                 Abses                            1   \n",
              "1   Anjing               Abortus                            0   \n",
              "2   Anjing        Aggenesis Anni                            0   \n",
              "3   Anjing  Alergi Saluran Nafas                            0   \n",
              "4   Anjing              Anorexia                            0   \n",
              "..     ...                   ...                          ...   \n",
              "81  Anjing        Sporotrichosis                            0   \n",
              "82  Anjing                Sprain                            0   \n",
              "83  Anjing                 Tumor                            0   \n",
              "84  Anjing               Uveitis                            0   \n",
              "85  Anjing                Vulnus                            2   \n",
              "\n",
              "                                           pengobatan  \n",
              "0   Cefotaxime,dexamethason,biosolamin,septo skin ...  \n",
              "1                    Vetoxy LA, Vit B-Comp, Sulpidone  \n",
              "2                                   OP PEMBUATAN ANUS  \n",
              "3                     Vitol ADE, Vetadryl, Vit B-Comp  \n",
              "4                                          Vit B-Comp  \n",
              "..                                                ...  \n",
              "81                                 BETAMOX, VETADRYL   \n",
              "82                Bethamox, Vit B-Comp, Dexamethasone  \n",
              "83               Operasi angkat tumor, betamox, vitol  \n",
              "84                  LIMOXIN , DEXA , HEMATOPAN BIODIN  \n",
              "85  Cefotaxime,roborante,dexamethason,biosolamin, ...  \n",
              "\n",
              "[86 rows x 4 columns]"
            ],
            "text/html": [
              "\n",
              "  <div id=\"df-dd5520fc-9b00-4482-9580-52d1dbfe0991\">\n",
              "    <div class=\"colab-df-container\">\n",
              "      <div>\n",
              "<style scoped>\n",
              "    .dataframe tbody tr th:only-of-type {\n",
              "        vertical-align: middle;\n",
              "    }\n",
              "\n",
              "    .dataframe tbody tr th {\n",
              "        vertical-align: top;\n",
              "    }\n",
              "\n",
              "    .dataframe thead th {\n",
              "        text-align: right;\n",
              "    }\n",
              "</style>\n",
              "<table border=\"1\" class=\"dataframe\">\n",
              "  <thead>\n",
              "    <tr style=\"text-align: right;\">\n",
              "      <th></th>\n",
              "      <th>hewan</th>\n",
              "      <th>diagnosa</th>\n",
              "      <th>jumlah_hewan_yang_diperiksa</th>\n",
              "      <th>pengobatan</th>\n",
              "    </tr>\n",
              "  </thead>\n",
              "  <tbody>\n",
              "    <tr>\n",
              "      <th>0</th>\n",
              "      <td>Anjing</td>\n",
              "      <td>Abses</td>\n",
              "      <td>1</td>\n",
              "      <td>Cefotaxime,dexamethason,biosolamin,septo skin ...</td>\n",
              "    </tr>\n",
              "    <tr>\n",
              "      <th>1</th>\n",
              "      <td>Anjing</td>\n",
              "      <td>Abortus</td>\n",
              "      <td>0</td>\n",
              "      <td>Vetoxy LA, Vit B-Comp, Sulpidone</td>\n",
              "    </tr>\n",
              "    <tr>\n",
              "      <th>2</th>\n",
              "      <td>Anjing</td>\n",
              "      <td>Aggenesis Anni</td>\n",
              "      <td>0</td>\n",
              "      <td>OP PEMBUATAN ANUS</td>\n",
              "    </tr>\n",
              "    <tr>\n",
              "      <th>3</th>\n",
              "      <td>Anjing</td>\n",
              "      <td>Alergi Saluran Nafas</td>\n",
              "      <td>0</td>\n",
              "      <td>Vitol ADE, Vetadryl, Vit B-Comp</td>\n",
              "    </tr>\n",
              "    <tr>\n",
              "      <th>4</th>\n",
              "      <td>Anjing</td>\n",
              "      <td>Anorexia</td>\n",
              "      <td>0</td>\n",
              "      <td>Vit B-Comp</td>\n",
              "    </tr>\n",
              "    <tr>\n",
              "      <th>...</th>\n",
              "      <td>...</td>\n",
              "      <td>...</td>\n",
              "      <td>...</td>\n",
              "      <td>...</td>\n",
              "    </tr>\n",
              "    <tr>\n",
              "      <th>81</th>\n",
              "      <td>Anjing</td>\n",
              "      <td>Sporotrichosis</td>\n",
              "      <td>0</td>\n",
              "      <td>BETAMOX, VETADRYL</td>\n",
              "    </tr>\n",
              "    <tr>\n",
              "      <th>82</th>\n",
              "      <td>Anjing</td>\n",
              "      <td>Sprain</td>\n",
              "      <td>0</td>\n",
              "      <td>Bethamox, Vit B-Comp, Dexamethasone</td>\n",
              "    </tr>\n",
              "    <tr>\n",
              "      <th>83</th>\n",
              "      <td>Anjing</td>\n",
              "      <td>Tumor</td>\n",
              "      <td>0</td>\n",
              "      <td>Operasi angkat tumor, betamox, vitol</td>\n",
              "    </tr>\n",
              "    <tr>\n",
              "      <th>84</th>\n",
              "      <td>Anjing</td>\n",
              "      <td>Uveitis</td>\n",
              "      <td>0</td>\n",
              "      <td>LIMOXIN , DEXA , HEMATOPAN BIODIN</td>\n",
              "    </tr>\n",
              "    <tr>\n",
              "      <th>85</th>\n",
              "      <td>Anjing</td>\n",
              "      <td>Vulnus</td>\n",
              "      <td>2</td>\n",
              "      <td>Cefotaxime,roborante,dexamethason,biosolamin, ...</td>\n",
              "    </tr>\n",
              "  </tbody>\n",
              "</table>\n",
              "<p>86 rows × 4 columns</p>\n",
              "</div>\n",
              "      <button class=\"colab-df-convert\" onclick=\"convertToInteractive('df-dd5520fc-9b00-4482-9580-52d1dbfe0991')\"\n",
              "              title=\"Convert this dataframe to an interactive table.\"\n",
              "              style=\"display:none;\">\n",
              "        \n",
              "  <svg xmlns=\"http://www.w3.org/2000/svg\" height=\"24px\"viewBox=\"0 0 24 24\"\n",
              "       width=\"24px\">\n",
              "    <path d=\"M0 0h24v24H0V0z\" fill=\"none\"/>\n",
              "    <path d=\"M18.56 5.44l.94 2.06.94-2.06 2.06-.94-2.06-.94-.94-2.06-.94 2.06-2.06.94zm-11 1L8.5 8.5l.94-2.06 2.06-.94-2.06-.94L8.5 2.5l-.94 2.06-2.06.94zm10 10l.94 2.06.94-2.06 2.06-.94-2.06-.94-.94-2.06-.94 2.06-2.06.94z\"/><path d=\"M17.41 7.96l-1.37-1.37c-.4-.4-.92-.59-1.43-.59-.52 0-1.04.2-1.43.59L10.3 9.45l-7.72 7.72c-.78.78-.78 2.05 0 2.83L4 21.41c.39.39.9.59 1.41.59.51 0 1.02-.2 1.41-.59l7.78-7.78 2.81-2.81c.8-.78.8-2.07 0-2.86zM5.41 20L4 18.59l7.72-7.72 1.47 1.35L5.41 20z\"/>\n",
              "  </svg>\n",
              "      </button>\n",
              "      \n",
              "  <style>\n",
              "    .colab-df-container {\n",
              "      display:flex;\n",
              "      flex-wrap:wrap;\n",
              "      gap: 12px;\n",
              "    }\n",
              "\n",
              "    .colab-df-convert {\n",
              "      background-color: #E8F0FE;\n",
              "      border: none;\n",
              "      border-radius: 50%;\n",
              "      cursor: pointer;\n",
              "      display: none;\n",
              "      fill: #1967D2;\n",
              "      height: 32px;\n",
              "      padding: 0 0 0 0;\n",
              "      width: 32px;\n",
              "    }\n",
              "\n",
              "    .colab-df-convert:hover {\n",
              "      background-color: #E2EBFA;\n",
              "      box-shadow: 0px 1px 2px rgba(60, 64, 67, 0.3), 0px 1px 3px 1px rgba(60, 64, 67, 0.15);\n",
              "      fill: #174EA6;\n",
              "    }\n",
              "\n",
              "    [theme=dark] .colab-df-convert {\n",
              "      background-color: #3B4455;\n",
              "      fill: #D2E3FC;\n",
              "    }\n",
              "\n",
              "    [theme=dark] .colab-df-convert:hover {\n",
              "      background-color: #434B5C;\n",
              "      box-shadow: 0px 1px 3px 1px rgba(0, 0, 0, 0.15);\n",
              "      filter: drop-shadow(0px 1px 2px rgba(0, 0, 0, 0.3));\n",
              "      fill: #FFFFFF;\n",
              "    }\n",
              "  </style>\n",
              "\n",
              "      <script>\n",
              "        const buttonEl =\n",
              "          document.querySelector('#df-dd5520fc-9b00-4482-9580-52d1dbfe0991 button.colab-df-convert');\n",
              "        buttonEl.style.display =\n",
              "          google.colab.kernel.accessAllowed ? 'block' : 'none';\n",
              "\n",
              "        async function convertToInteractive(key) {\n",
              "          const element = document.querySelector('#df-dd5520fc-9b00-4482-9580-52d1dbfe0991');\n",
              "          const dataTable =\n",
              "            await google.colab.kernel.invokeFunction('convertToInteractive',\n",
              "                                                     [key], {});\n",
              "          if (!dataTable) return;\n",
              "\n",
              "          const docLinkHtml = 'Like what you see? Visit the ' +\n",
              "            '<a target=\"_blank\" href=https://colab.research.google.com/notebooks/data_table.ipynb>data table notebook</a>'\n",
              "            + ' to learn more about interactive tables.';\n",
              "          element.innerHTML = '';\n",
              "          dataTable['output_type'] = 'display_data';\n",
              "          await google.colab.output.renderOutput(dataTable, element);\n",
              "          const docLink = document.createElement('div');\n",
              "          docLink.innerHTML = docLinkHtml;\n",
              "          element.appendChild(docLink);\n",
              "        }\n",
              "      </script>\n",
              "    </div>\n",
              "  </div>\n",
              "  "
            ]
          },
          "metadata": {},
          "execution_count": 13
        }
      ]
    },
    {
      "cell_type": "code",
      "source": [
        "data_anjing['pengobatan'].isna().sum()"
      ],
      "metadata": {
        "colab": {
          "base_uri": "https://localhost:8080/"
        },
        "id": "mJjxOm6z4i6v",
        "outputId": "962fadb8-47be-46c6-a06e-40019feeb7a2"
      },
      "execution_count": null,
      "outputs": [
        {
          "output_type": "execute_result",
          "data": {
            "text/plain": [
              "1"
            ]
          },
          "metadata": {},
          "execution_count": 14
        }
      ]
    },
    {
      "cell_type": "code",
      "source": [
        "data_anjing = data_anjing.dropna(subset=['pengobatan'])"
      ],
      "metadata": {
        "id": "Fb8vCyoQ4sUL"
      },
      "execution_count": null,
      "outputs": []
    },
    {
      "cell_type": "code",
      "source": [
        "data_anjing.shape"
      ],
      "metadata": {
        "colab": {
          "base_uri": "https://localhost:8080/"
        },
        "id": "pZanKhh_5Ccc",
        "outputId": "85eb4788-0778-4f19-f073-167722b95724"
      },
      "execution_count": null,
      "outputs": [
        {
          "output_type": "execute_result",
          "data": {
            "text/plain": [
              "(85, 4)"
            ]
          },
          "metadata": {},
          "execution_count": 16
        }
      ]
    },
    {
      "cell_type": "code",
      "source": [
        "data_kucing['pengobatan'].isna().sum()"
      ],
      "metadata": {
        "colab": {
          "base_uri": "https://localhost:8080/"
        },
        "id": "RXSwumTn42Gv",
        "outputId": "257fb8f4-0ab6-4721-e871-320e9723eb65"
      },
      "execution_count": null,
      "outputs": [
        {
          "output_type": "execute_result",
          "data": {
            "text/plain": [
              "1"
            ]
          },
          "metadata": {},
          "execution_count": 17
        }
      ]
    },
    {
      "cell_type": "code",
      "source": [
        "data_kucing = data_kucing.dropna(subset=['pengobatan'])"
      ],
      "metadata": {
        "id": "_Z6feMg_44s0"
      },
      "execution_count": null,
      "outputs": []
    },
    {
      "cell_type": "code",
      "source": [
        "import json"
      ],
      "metadata": {
        "id": "FJ0hjOgnlTOK"
      },
      "execution_count": null,
      "outputs": []
    },
    {
      "cell_type": "markdown",
      "source": [
        "## dataset convert"
      ],
      "metadata": {
        "id": "Z7SWKYcZmmn8"
      }
    },
    {
      "cell_type": "code",
      "source": [
        "converted_data_anjing = []\n",
        "for index, row in data_anjing.iterrows():\n",
        "    converted_item = {\n",
        "        \"tag\": row[\"diagnosa\"],\n",
        "        \"patterns\": [row[\"hewan\"], row[\"diagnosa\"]],\n",
        "        \"responses\": [row[\"pengobatan\"]]\n",
        "    }\n",
        "    converted_data_anjing.append(converted_item)\n",
        "\n",
        "converted_data_kucing = []\n",
        "for index, row in data_kucing.iterrows():\n",
        "    converted_item = {\n",
        "        \"tag\": row[\"diagnosa\"],\n",
        "        \"patterns\": [row[\"hewan\"], row[\"diagnosa\"]],\n",
        "        \"responses\": [row[\"pengobatan\"]]\n",
        "    }\n",
        "    converted_data_kucing.append(converted_item)\n",
        "\n",
        "# Convert the list of dictionaries to a JSON string\n",
        "json_anjing = json.dumps(converted_data_anjing)\n",
        "json_kucing = json.dumps(converted_data_kucing)\n",
        "\n",
        "# Print the JSON string\n",
        "print(json_anjing)"
      ],
      "metadata": {
        "colab": {
          "base_uri": "https://localhost:8080/"
        },
        "id": "r3ohRwj2lPeC",
        "outputId": "49f87cd3-6dd8-44bd-a77e-a355f9467e24"
      },
      "execution_count": 36,
      "outputs": [
        {
          "output_type": "stream",
          "name": "stdout",
          "text": [
            "[{\"tag\": \"Abses\", \"patterns\": [\"Anjing\", \"Abses\"], \"responses\": [\"Cefotaxime,dexamethason,biosolamin,septo skin spray\"]}, {\"tag\": \"Abortus\", \"patterns\": [\"Anjing\", \"Abortus\"], \"responses\": [\"Vetoxy LA, Vit B-Comp, Sulpidone\"]}, {\"tag\": \"Aggenesis Anni\", \"patterns\": [\"Anjing\", \"Aggenesis Anni\"], \"responses\": [\"OP PEMBUATAN ANUS\"]}, {\"tag\": \"Alergi Saluran Nafas\", \"patterns\": [\"Anjing\", \"Alergi Saluran Nafas\"], \"responses\": [\"Vitol ADE, Vetadryl, Vit B-Comp\"]}, {\"tag\": \"Anorexia\", \"patterns\": [\"Anjing\", \"Anorexia\"], \"responses\": [\"Vit B-Comp\"]}, {\"tag\": \"Arthritis\", \"patterns\": [\"Anjing\", \"Arthritis\"], \"responses\": [\"INJ/HEMATOPAN , BIODIN\"]}, {\"tag\": \"Blepharitis\", \"patterns\": [\"Anjing\", \"Blepharitis\"], \"responses\": [\"Betamox, vetadryl, biodin,  Vit B-Comp\"]}, {\"tag\": \"Bronkitis\", \"patterns\": [\"Anjing\", \"Bronkitis\"], \"responses\": [\"Cefadroxil, ambroxol, dexamethason, vit c\"]}, {\"tag\": \"Calici\", \"patterns\": [\"Anjing\", \"Calici\"], \"responses\": [\"Clavamox, pronisi, vi. C, imboost\"]}, {\"tag\": \"Check UP\", \"patterns\": [\"Anjing\", \"Check UP\"], \"responses\": [\"Vit B-Comp\"]}, {\"tag\": \"Chlamydia\", \"patterns\": [\"Anjing\", \"Chlamydia\"], \"responses\": [\"Dexamethason, chloramphenicol salep mata\"]}, {\"tag\": \"Chlongiohepatitis\", \"patterns\": [\"Anjing\", \"Chlongiohepatitis\"], \"responses\": [\"BETAMOX, VETADRYL, HEMATOPAN , BIODIN \"]}, {\"tag\": \"CKD\", \"patterns\": [\"Anjing\", \"CKD\"], \"responses\": [\"Ketosteril, lenal ace, ornipural\"]}, {\"tag\": \"Conjunctivitis\", \"patterns\": [\"Anjing\", \"Conjunctivitis\"], \"responses\": [\"Dexamethason, chloramphenicol salep mata\"]}, {\"tag\": \"Dehidrasi\", \"patterns\": [\"Anjing\", \"Dehidrasi\"], \"responses\": [\"NaCl, Biodin\"]}, {\"tag\": \"Demam\", \"patterns\": [\"Anjing\", \"Demam\"], \"responses\": [\"Bethamox, Vit B-Comp, Sulpidone\"]}, {\"tag\": \"Demodecosisi\", \"patterns\": [\"Anjing\", \"Demodecosisi\"], \"responses\": [\" IVOMEC, VETADRYL\"]}, {\"tag\": \"Dermatitis\", \"patterns\": [\"Anjing\", \"Dermatitis\"], \"responses\": [\"Ivermectin,lincomycin,prednisone,biosolamin,inmunair\"]}, {\"tag\": \"Dermatophytosis\", \"patterns\": [\"Anjing\", \"Dermatophytosis\"], \"responses\": [\"Sebazole, chlorhexidine, vetadryl\"]}, {\"tag\": \"Distokia\", \"patterns\": [\"Anjing\", \"Distokia\"], \"responses\": [\"Ketamin, lidocaine, dexamethasone, vit B1 , caesar\"]}, {\"tag\": \"Ear mites\", \"patterns\": [\"Anjing\", \"Ear mites\"], \"responses\": [\"Ivermectin, roborante, erlamicetin tetes telinga\"]}, {\"tag\": \"Ektoparasitosis\", \"patterns\": [\"Anjing\", \"Ektoparasitosis\"], \"responses\": [\"Ivermectin, roborante\"]}, {\"tag\": \"Endoparasit\", \"patterns\": [\"Anjing\", \"Endoparasit\"], \"responses\": [\"Doxycycline, clindamycin, ivermectine, selamectine\"]}, {\"tag\": \"Enteritis\", \"patterns\": [\"Anjing\", \"Enteritis\"], \"responses\": [\"Biosolamin,loperamide,flagyl,inmunair,Bethamox, Vit B-Comp, Vetadryl\"]}, {\"tag\": \"Endophtalmitis\", \"patterns\": [\"Anjing\", \"Endophtalmitis\"], \"responses\": [\"INJ/ BETAMOX, TOLFEDINE , HEMATOPAN , BIODIN \"]}, {\"tag\": \"Endometritis\", \"patterns\": [\"Anjing\", \"Endometritis\"], \"responses\": [\"Doxyciclin,dexamethason, biosolamin\"]}, {\"tag\": \"Febris\", \"patterns\": [\"Anjing\", \"Febris\"], \"responses\": [\"Vit. B complek, stimuno\"]}, {\"tag\": \"FCV\", \"patterns\": [\"Anjing\", \"FCV\"], \"responses\": [\"INJ / VETADRYL , AMINOPHYLINE , VETOXY , HEMATOPAN , BIODIN R/ INFUS RL SUBKUTAN \"]}, {\"tag\": \"FHV\", \"patterns\": [\"Anjing\", \"FHV\"], \"responses\": [\"VITAMIN C , VETADRYL, HEMATOPAN, BIODIN\"]}, {\"tag\": \"FIC\", \"patterns\": [\"Anjing\", \"FIC\"], \"responses\": [\"FLUNIXIN\"]}, {\"tag\": \"FIP\", \"patterns\": [\"Anjing\", \"FIP\"], \"responses\": [\"Doxycycline, curcuma, b complek\"]}, {\"tag\": \"FLUTD\", \"patterns\": [\"Anjing\", \"FLUTD\"], \"responses\": [\"Pasang cateter,ampicillin,Aminophyllin,Biosolamin,\"]}, {\"tag\": \"Flu\", \"patterns\": [\"Anjing\", \"Flu\"], \"responses\": [\"Cefotaxime,ampicillin,Aminophyllin,Biosolamin,Fluimucil\"]}, {\"tag\": \"Fraktur\", \"patterns\": [\"Anjing\", \"Fraktur\"], \"responses\": [\"Operasi pasang pen, bandage, meloxicam\"]}, {\"tag\": \"FUC\", \"patterns\": [\"Anjing\", \"FUC\"], \"responses\": [\"BETAMOX, TOLFEDIN , HEMATOPAN , BIODIN\"]}, {\"tag\": \"Gastritis\", \"patterns\": [\"Anjing\", \"Gastritis\"], \"responses\": [\"Primperan,biosolamin,prednisone,cefotaxime\"]}, {\"tag\": \"Gastro Intestinal\", \"patterns\": [\"Anjing\", \"Gastro Intestinal\"], \"responses\": [\"Bethamox, Vit B-Comp, Vetadryl\"]}, {\"tag\": \"Gastroenteritis\", \"patterns\": [\"Anjing\", \"Gastroenteritis\"], \"responses\": [\"Primperan,biosolamin,flagyl,loperamide,mylanta\"]}, {\"tag\": \"Ginggivitis\", \"patterns\": [\"Anjing\", \"Ginggivitis\"], \"responses\": [\"BETAMOX, VETADRYL\"]}, {\"tag\": \"Helminthiasis\", \"patterns\": [\"Anjing\", \"Helminthiasis\"], \"responses\": [\"Drontal dog, drontal cat, albendazole\"]}, {\"tag\": \"Hernia\", \"patterns\": [\"Anjing\", \"Hernia\"], \"responses\": [\"RL SC, VETADRYL, HEMATODIN\"]}, {\"tag\": \"Heart Failure\", \"patterns\": [\"Anjing\", \"Heart Failure\"], \"responses\": [\"INJ / BETAMOX, VETADRYL\"]}, {\"tag\": \"Indigesti\", \"patterns\": [\"Anjing\", \"Indigesti\"], \"responses\": [\"Vit B-Comp, Vitol ADE\"]}, {\"tag\": \"Inkoordinasi Syaraf\", \"patterns\": [\"Anjing\", \"Inkoordinasi Syaraf\"], \"responses\": [\"NEUROBION, CATOSOL\"]}, {\"tag\": \"Infeksi Saluran Kencing\", \"patterns\": [\"Anjing\", \"Infeksi Saluran Kencing\"], \"responses\": [\"Bethamox, Vit B-Comp, Sulpidone\"]}, {\"tag\": \"Infeksi saluran pencernaan\", \"patterns\": [\"Anjing\", \"Infeksi saluran pencernaan\"], \"responses\": [\"Amoxillin, Vetadryl\"]}, {\"tag\": \"Jamur\", \"patterns\": [\"Anjing\", \"Jamur\"], \"responses\": [\"Ivermectin,ketoconazole,Enrofloxacin\"]}, {\"tag\": \"Kennel Cough\", \"patterns\": [\"Anjing\", \"Kennel Cough\"], \"responses\": [\"BETAMOX, VETADRYL \"]}, {\"tag\": \"Keracunan\", \"patterns\": [\"Anjing\", \"Keracunan\"], \"responses\": [\"Vetadryl, Vit B-Comp\"]}, {\"tag\": \"Kornea ulser\", \"patterns\": [\"Anjing\", \"Kornea ulser\"], \"responses\": [\"Gentamicin, tetracicline, ofloxacin, vit A\"]}, {\"tag\": \"Luka Trauma\", \"patterns\": [\"Anjing\", \"Luka Trauma\"], \"responses\": [\"Cefotaxime,roborante,dexamethason,biosolamin, enrofloxacin\"]}, {\"tag\": \"Mastitis\", \"patterns\": [\"Anjing\", \"Mastitis\"], \"responses\": [\"Betamox, dexa, \"]}, {\"tag\": \"Myalgia\", \"patterns\": [\"Anjing\", \"Myalgia\"], \"responses\": [\" BETAMOX, DEXA, NEUROBION\"]}, {\"tag\": \"Myasis\", \"patterns\": [\"Anjing\", \"Myasis\"], \"responses\": [\"betamox, dexa, ivomec\"]}, {\"tag\": \"Metritis\", \"patterns\": [\"Anjing\", \"Metritis\"], \"responses\": [\"Bethamox, Vit B-Comp, Sulpidone\"]}, {\"tag\": \"Miositis\", \"patterns\": [\"Anjing\", \"Miositis\"], \"responses\": [\"Dexamethason, prednisone\"]}, {\"tag\": \"Necrotic\", \"patterns\": [\"Anjing\", \"Necrotic\"], \"responses\": [\"INJ/ CEFAZIDIME , BIODIN , DEXAMETASONE\"]}, {\"tag\": \"Othematoma\", \"patterns\": [\"Anjing\", \"Othematoma\"], \"responses\": [\"amoxicillin, dexamethasone, adona, \"]}, {\"tag\": \"Otitis\", \"patterns\": [\"Anjing\", \"Otitis\"], \"responses\": [\"Doxyciclin,biosolamin,\"]}, {\"tag\": \"Parvo\", \"patterns\": [\"Anjing\", \"Parvo\"], \"responses\": [\"INFUS RL SUBKUTAN , INJ / CATOSAL , HVETADRYL, BETAMOX \"]}, {\"tag\": \"Panleukopenia\", \"patterns\": [\"Anjing\", \"Panleukopenia\"], \"responses\": [\"BETAMOX, VETADRYL, HEMATOPAN, BIODIN\"]}, {\"tag\": \"Pasteurellosis\", \"patterns\": [\"Anjing\", \"Pasteurellosis\"], \"responses\": [\"INJ / BAYTRIL, VETADRYL , HEMATOPAN , BIODIN\"]}, {\"tag\": \"Peritonitis\", \"patterns\": [\"Anjing\", \"Peritonitis\"], \"responses\": [\"FLAGYL , FUROSEMIDE, SELOXY \"]}, {\"tag\": \"Pneumonia\", \"patterns\": [\"Anjing\", \"Pneumonia\"], \"responses\": [\"HEMATOPAN, VETEDRYL, BIODIN, Vetoxy LA, Vetadryl, Sulpidone, Betamox, Anti Cold\"]}, {\"tag\": \"Post partus\", \"patterns\": [\"Anjing\", \"Post partus\"], \"responses\": [\"Vetoxy LA, Vetadryl, Vit B-Complek, Multivitamin ADE\"]}, {\"tag\": \"Pregnant\", \"patterns\": [\"Anjing\", \"Pregnant\"], \"responses\": [\"Vit ADE, vit Bcomplex, biodin\"]}, {\"tag\": \"Prolaps anii\", \"patterns\": [\"Anjing\", \"Prolaps anii\"], \"responses\": [\"Metronidazole, hematopan, kaolin pectin\"]}, {\"tag\": \"Prolaps Bulbi\", \"patterns\": [\"Anjing\", \"Prolaps Bulbi\"], \"responses\": [\"BETAMOX, VETADRYL, BIODIN, HEMATOPAN, enukleasi\"]}, {\"tag\": \"Prolaps Testis\", \"patterns\": [\"Anjing\", \"Prolaps Testis\"], \"responses\": [\"BETAMOX, VETADRYL, BIODIN, HEMATOPAN, kastrasi\"]}, {\"tag\": \"Pyoderma\", \"patterns\": [\"Anjing\", \"Pyoderma\"], \"responses\": [\"Cephalexin, dexamethasone, vit.c\"]}, {\"tag\": \"Pyometra\", \"patterns\": [\"Anjing\", \"Pyometra\"], \"responses\": [\" BETAMOX, VETADRYL, HEMATOPAN BIODIN, Operasi angkat pyometra\"]}, {\"tag\": \"Retensio Sec\", \"patterns\": [\"Anjing\", \"Retensio Sec\"], \"responses\": [\"Vetoxy LA, Vetadryl, Sulpidone, Hematodin\"]}, {\"tag\": \"Rhinitis\", \"patterns\": [\"Anjing\", \"Rhinitis\"], \"responses\": [\"SEPTRI, HEMATOPAN, BIODIN, VETADRYL\"]}, {\"tag\": \"Rhinotracheitis\", \"patterns\": [\"Anjing\", \"Rhinotracheitis\"], \"responses\": [\"INJ/ BETAMOX, TOLFEDINE, HEMATODIN, VETADRYL, injektamin\"]}, {\"tag\": \"Ruptur pada Kaki\", \"patterns\": [\"Anjing\", \"Ruptur pada Kaki\"], \"responses\": [\"Bethamox, Vit B-Comp, Dexamethasone\"]}, {\"tag\": \"Seizure\", \"patterns\": [\"Anjing\", \"Seizure\"], \"responses\": [\"Castran\"]}, {\"tag\": \"Sehat\", \"patterns\": [\"Anjing\", \"Sehat\"], \"responses\": [\"Vaksin, Surat Keterangan Sehat, operasi\"]}, {\"tag\": \"Stres fisiologis\", \"patterns\": [\"Anjing\", \"Stres fisiologis\"], \"responses\": [\"BETAMOX, VETADRYL, HEMATOPAN , BIODIN \"]}, {\"tag\": \"Stomatitis\", \"patterns\": [\"Anjing\", \"Stomatitis\"], \"responses\": [\"Betamox, biodin\"]}, {\"tag\": \"Scabies\", \"patterns\": [\"Anjing\", \"Scabies\"], \"responses\": [\"Ivermectin, biosolamin,inmunair\"]}, {\"tag\": \"Sporotrichosis\", \"patterns\": [\"Anjing\", \"Sporotrichosis\"], \"responses\": [\"BETAMOX, VETADRYL \"]}, {\"tag\": \"Sprain\", \"patterns\": [\"Anjing\", \"Sprain\"], \"responses\": [\"Bethamox, Vit B-Comp, Dexamethasone\"]}, {\"tag\": \"Tumor\", \"patterns\": [\"Anjing\", \"Tumor\"], \"responses\": [\"Operasi angkat tumor, betamox, vitol\"]}, {\"tag\": \"Uveitis\", \"patterns\": [\"Anjing\", \"Uveitis\"], \"responses\": [\"LIMOXIN , DEXA , HEMATOPAN BIODIN\"]}, {\"tag\": \"Vulnus\", \"patterns\": [\"Anjing\", \"Vulnus\"], \"responses\": [\"Cefotaxime,roborante,dexamethason,biosolamin, enrofloxacin\"]}]\n"
          ]
        }
      ]
    },
    {
      "cell_type": "code",
      "source": [
        "converted_data_anjing = json.loads(json_anjing)\n",
        "converted_data_kucing = json.loads(json_kucing)\n",
        "\n",
        "\n",
        "# Create a DataFrame from the list of dictionaries\n",
        "chatbot_anjing = pd.DataFrame(converted_data_anjing)\n",
        "chatbot_kucing = pd.DataFrame(converted_data_kucing)"
      ],
      "metadata": {
        "id": "dQEcnP43lQbL"
      },
      "execution_count": 42,
      "outputs": []
    },
    {
      "cell_type": "code",
      "source": [
        "chatbot_anjing.shape"
      ],
      "metadata": {
        "colab": {
          "base_uri": "https://localhost:8080/"
        },
        "id": "vEXzhl83r10X",
        "outputId": "719d326f-33ad-450a-ede8-98eb8f27e9a0"
      },
      "execution_count": 43,
      "outputs": [
        {
          "output_type": "execute_result",
          "data": {
            "text/plain": [
              "(85, 3)"
            ]
          },
          "metadata": {},
          "execution_count": 43
        }
      ]
    },
    {
      "cell_type": "code",
      "source": [
        "# chatbot_anjing['tag'] = chatbot_anjing['patterns']"
      ],
      "metadata": {
        "id": "sXRUZ428xn00"
      },
      "execution_count": null,
      "outputs": []
    },
    {
      "cell_type": "code",
      "source": [
        "# chatbot_anjing['tag'] = chatbot_anjing['tag'].str.strip('[]')"
      ],
      "metadata": {
        "id": "R2LdBaUWx5qx"
      },
      "execution_count": null,
      "outputs": []
    },
    {
      "cell_type": "code",
      "source": [
        "chatbot_anjing"
      ],
      "metadata": {
        "colab": {
          "base_uri": "https://localhost:8080/",
          "height": 424
        },
        "id": "0S67Ko1ar5hi",
        "outputId": "74247c01-9e6d-46d2-9d94-a29a9d3e90f5"
      },
      "execution_count": 44,
      "outputs": [
        {
          "output_type": "execute_result",
          "data": {
            "text/plain": [
              "                     tag                        patterns  \\\n",
              "0                  Abses                 [Anjing, Abses]   \n",
              "1                Abortus               [Anjing, Abortus]   \n",
              "2         Aggenesis Anni        [Anjing, Aggenesis Anni]   \n",
              "3   Alergi Saluran Nafas  [Anjing, Alergi Saluran Nafas]   \n",
              "4               Anorexia              [Anjing, Anorexia]   \n",
              "..                   ...                             ...   \n",
              "80        Sporotrichosis        [Anjing, Sporotrichosis]   \n",
              "81                Sprain                [Anjing, Sprain]   \n",
              "82                 Tumor                 [Anjing, Tumor]   \n",
              "83               Uveitis               [Anjing, Uveitis]   \n",
              "84                Vulnus                [Anjing, Vulnus]   \n",
              "\n",
              "                                            responses  \n",
              "0   [Cefotaxime,dexamethason,biosolamin,septo skin...  \n",
              "1                  [Vetoxy LA, Vit B-Comp, Sulpidone]  \n",
              "2                                 [OP PEMBUATAN ANUS]  \n",
              "3                   [Vitol ADE, Vetadryl, Vit B-Comp]  \n",
              "4                                        [Vit B-Comp]  \n",
              "..                                                ...  \n",
              "80                               [BETAMOX, VETADRYL ]  \n",
              "81              [Bethamox, Vit B-Comp, Dexamethasone]  \n",
              "82             [Operasi angkat tumor, betamox, vitol]  \n",
              "83                [LIMOXIN , DEXA , HEMATOPAN BIODIN]  \n",
              "84  [Cefotaxime,roborante,dexamethason,biosolamin,...  \n",
              "\n",
              "[85 rows x 3 columns]"
            ],
            "text/html": [
              "\n",
              "  <div id=\"df-21b5d4cf-e7dd-4406-98d6-7b23f0c00d13\">\n",
              "    <div class=\"colab-df-container\">\n",
              "      <div>\n",
              "<style scoped>\n",
              "    .dataframe tbody tr th:only-of-type {\n",
              "        vertical-align: middle;\n",
              "    }\n",
              "\n",
              "    .dataframe tbody tr th {\n",
              "        vertical-align: top;\n",
              "    }\n",
              "\n",
              "    .dataframe thead th {\n",
              "        text-align: right;\n",
              "    }\n",
              "</style>\n",
              "<table border=\"1\" class=\"dataframe\">\n",
              "  <thead>\n",
              "    <tr style=\"text-align: right;\">\n",
              "      <th></th>\n",
              "      <th>tag</th>\n",
              "      <th>patterns</th>\n",
              "      <th>responses</th>\n",
              "    </tr>\n",
              "  </thead>\n",
              "  <tbody>\n",
              "    <tr>\n",
              "      <th>0</th>\n",
              "      <td>Abses</td>\n",
              "      <td>[Anjing, Abses]</td>\n",
              "      <td>[Cefotaxime,dexamethason,biosolamin,septo skin...</td>\n",
              "    </tr>\n",
              "    <tr>\n",
              "      <th>1</th>\n",
              "      <td>Abortus</td>\n",
              "      <td>[Anjing, Abortus]</td>\n",
              "      <td>[Vetoxy LA, Vit B-Comp, Sulpidone]</td>\n",
              "    </tr>\n",
              "    <tr>\n",
              "      <th>2</th>\n",
              "      <td>Aggenesis Anni</td>\n",
              "      <td>[Anjing, Aggenesis Anni]</td>\n",
              "      <td>[OP PEMBUATAN ANUS]</td>\n",
              "    </tr>\n",
              "    <tr>\n",
              "      <th>3</th>\n",
              "      <td>Alergi Saluran Nafas</td>\n",
              "      <td>[Anjing, Alergi Saluran Nafas]</td>\n",
              "      <td>[Vitol ADE, Vetadryl, Vit B-Comp]</td>\n",
              "    </tr>\n",
              "    <tr>\n",
              "      <th>4</th>\n",
              "      <td>Anorexia</td>\n",
              "      <td>[Anjing, Anorexia]</td>\n",
              "      <td>[Vit B-Comp]</td>\n",
              "    </tr>\n",
              "    <tr>\n",
              "      <th>...</th>\n",
              "      <td>...</td>\n",
              "      <td>...</td>\n",
              "      <td>...</td>\n",
              "    </tr>\n",
              "    <tr>\n",
              "      <th>80</th>\n",
              "      <td>Sporotrichosis</td>\n",
              "      <td>[Anjing, Sporotrichosis]</td>\n",
              "      <td>[BETAMOX, VETADRYL ]</td>\n",
              "    </tr>\n",
              "    <tr>\n",
              "      <th>81</th>\n",
              "      <td>Sprain</td>\n",
              "      <td>[Anjing, Sprain]</td>\n",
              "      <td>[Bethamox, Vit B-Comp, Dexamethasone]</td>\n",
              "    </tr>\n",
              "    <tr>\n",
              "      <th>82</th>\n",
              "      <td>Tumor</td>\n",
              "      <td>[Anjing, Tumor]</td>\n",
              "      <td>[Operasi angkat tumor, betamox, vitol]</td>\n",
              "    </tr>\n",
              "    <tr>\n",
              "      <th>83</th>\n",
              "      <td>Uveitis</td>\n",
              "      <td>[Anjing, Uveitis]</td>\n",
              "      <td>[LIMOXIN , DEXA , HEMATOPAN BIODIN]</td>\n",
              "    </tr>\n",
              "    <tr>\n",
              "      <th>84</th>\n",
              "      <td>Vulnus</td>\n",
              "      <td>[Anjing, Vulnus]</td>\n",
              "      <td>[Cefotaxime,roborante,dexamethason,biosolamin,...</td>\n",
              "    </tr>\n",
              "  </tbody>\n",
              "</table>\n",
              "<p>85 rows × 3 columns</p>\n",
              "</div>\n",
              "      <button class=\"colab-df-convert\" onclick=\"convertToInteractive('df-21b5d4cf-e7dd-4406-98d6-7b23f0c00d13')\"\n",
              "              title=\"Convert this dataframe to an interactive table.\"\n",
              "              style=\"display:none;\">\n",
              "        \n",
              "  <svg xmlns=\"http://www.w3.org/2000/svg\" height=\"24px\"viewBox=\"0 0 24 24\"\n",
              "       width=\"24px\">\n",
              "    <path d=\"M0 0h24v24H0V0z\" fill=\"none\"/>\n",
              "    <path d=\"M18.56 5.44l.94 2.06.94-2.06 2.06-.94-2.06-.94-.94-2.06-.94 2.06-2.06.94zm-11 1L8.5 8.5l.94-2.06 2.06-.94-2.06-.94L8.5 2.5l-.94 2.06-2.06.94zm10 10l.94 2.06.94-2.06 2.06-.94-2.06-.94-.94-2.06-.94 2.06-2.06.94z\"/><path d=\"M17.41 7.96l-1.37-1.37c-.4-.4-.92-.59-1.43-.59-.52 0-1.04.2-1.43.59L10.3 9.45l-7.72 7.72c-.78.78-.78 2.05 0 2.83L4 21.41c.39.39.9.59 1.41.59.51 0 1.02-.2 1.41-.59l7.78-7.78 2.81-2.81c.8-.78.8-2.07 0-2.86zM5.41 20L4 18.59l7.72-7.72 1.47 1.35L5.41 20z\"/>\n",
              "  </svg>\n",
              "      </button>\n",
              "      \n",
              "  <style>\n",
              "    .colab-df-container {\n",
              "      display:flex;\n",
              "      flex-wrap:wrap;\n",
              "      gap: 12px;\n",
              "    }\n",
              "\n",
              "    .colab-df-convert {\n",
              "      background-color: #E8F0FE;\n",
              "      border: none;\n",
              "      border-radius: 50%;\n",
              "      cursor: pointer;\n",
              "      display: none;\n",
              "      fill: #1967D2;\n",
              "      height: 32px;\n",
              "      padding: 0 0 0 0;\n",
              "      width: 32px;\n",
              "    }\n",
              "\n",
              "    .colab-df-convert:hover {\n",
              "      background-color: #E2EBFA;\n",
              "      box-shadow: 0px 1px 2px rgba(60, 64, 67, 0.3), 0px 1px 3px 1px rgba(60, 64, 67, 0.15);\n",
              "      fill: #174EA6;\n",
              "    }\n",
              "\n",
              "    [theme=dark] .colab-df-convert {\n",
              "      background-color: #3B4455;\n",
              "      fill: #D2E3FC;\n",
              "    }\n",
              "\n",
              "    [theme=dark] .colab-df-convert:hover {\n",
              "      background-color: #434B5C;\n",
              "      box-shadow: 0px 1px 3px 1px rgba(0, 0, 0, 0.15);\n",
              "      filter: drop-shadow(0px 1px 2px rgba(0, 0, 0, 0.3));\n",
              "      fill: #FFFFFF;\n",
              "    }\n",
              "  </style>\n",
              "\n",
              "      <script>\n",
              "        const buttonEl =\n",
              "          document.querySelector('#df-21b5d4cf-e7dd-4406-98d6-7b23f0c00d13 button.colab-df-convert');\n",
              "        buttonEl.style.display =\n",
              "          google.colab.kernel.accessAllowed ? 'block' : 'none';\n",
              "\n",
              "        async function convertToInteractive(key) {\n",
              "          const element = document.querySelector('#df-21b5d4cf-e7dd-4406-98d6-7b23f0c00d13');\n",
              "          const dataTable =\n",
              "            await google.colab.kernel.invokeFunction('convertToInteractive',\n",
              "                                                     [key], {});\n",
              "          if (!dataTable) return;\n",
              "\n",
              "          const docLinkHtml = 'Like what you see? Visit the ' +\n",
              "            '<a target=\"_blank\" href=https://colab.research.google.com/notebooks/data_table.ipynb>data table notebook</a>'\n",
              "            + ' to learn more about interactive tables.';\n",
              "          element.innerHTML = '';\n",
              "          dataTable['output_type'] = 'display_data';\n",
              "          await google.colab.output.renderOutput(dataTable, element);\n",
              "          const docLink = document.createElement('div');\n",
              "          docLink.innerHTML = docLinkHtml;\n",
              "          element.appendChild(docLink);\n",
              "        }\n",
              "      </script>\n",
              "    </div>\n",
              "  </div>\n",
              "  "
            ]
          },
          "metadata": {},
          "execution_count": 44
        }
      ]
    },
    {
      "cell_type": "code",
      "source": [
        "# chatbot_anjing['tag'] = chatbot_anjing.groupby('tag').cumcount().add(1).astype(str).radd(chatbot_anjing['tag'] + '-')"
      ],
      "metadata": {
        "id": "Dzct-tQG1bLT"
      },
      "execution_count": 40,
      "outputs": []
    },
    {
      "cell_type": "code",
      "source": [
        "chatbot_kucing"
      ],
      "metadata": {
        "colab": {
          "base_uri": "https://localhost:8080/",
          "height": 424
        },
        "id": "xOwD8VLg1eSP",
        "outputId": "13f05a85-50b6-4fc1-ae6f-82b64ec4e3a2"
      },
      "execution_count": 45,
      "outputs": [
        {
          "output_type": "execute_result",
          "data": {
            "text/plain": [
              "                     tag                        patterns  \\\n",
              "0                  Abses                 [Kucing, Abses]   \n",
              "1                Abortus               [Kucing, Abortus]   \n",
              "2         Aggenesis Anni        [Kucing, Aggenesis Anni]   \n",
              "3   Alergi Saluran Nafas  [Kucing, Alergi Saluran Nafas]   \n",
              "4               Anorexia              [Kucing, Anorexia]   \n",
              "..                   ...                             ...   \n",
              "80        Sporotrichosis        [Kucing, Sporotrichosis]   \n",
              "81                Sprain                [Kucing, Sprain]   \n",
              "82                 Tumor                 [Kucing, Tumor]   \n",
              "83               Uveitis               [Kucing, Uveitis]   \n",
              "84                Vulnus                [Kucing, Vulnus]   \n",
              "\n",
              "                                            responses  \n",
              "0   [Cefotaxime,dexamethason,biosolamin,septo skin...  \n",
              "1                  [Vetoxy LA, Vit B-Comp, Sulpidone]  \n",
              "2                                 [OP PEMBUATAN ANUS]  \n",
              "3                   [Vitol ADE, Vetadryl, Vit B-Comp]  \n",
              "4                                        [Vit B-Comp]  \n",
              "..                                                ...  \n",
              "80                               [BETAMOX, VETADRYL ]  \n",
              "81              [Bethamox, Vit B-Comp, Dexamethasone]  \n",
              "82             [Operasi angkat tumor, betamox, vitol]  \n",
              "83                [LIMOXIN , DEXA , HEMATOPAN BIODIN]  \n",
              "84  [Cefotaxime,roborante,dexamethason,biosolamin,...  \n",
              "\n",
              "[85 rows x 3 columns]"
            ],
            "text/html": [
              "\n",
              "  <div id=\"df-7e2ab501-28a8-4e54-8e84-f2400a4328f2\">\n",
              "    <div class=\"colab-df-container\">\n",
              "      <div>\n",
              "<style scoped>\n",
              "    .dataframe tbody tr th:only-of-type {\n",
              "        vertical-align: middle;\n",
              "    }\n",
              "\n",
              "    .dataframe tbody tr th {\n",
              "        vertical-align: top;\n",
              "    }\n",
              "\n",
              "    .dataframe thead th {\n",
              "        text-align: right;\n",
              "    }\n",
              "</style>\n",
              "<table border=\"1\" class=\"dataframe\">\n",
              "  <thead>\n",
              "    <tr style=\"text-align: right;\">\n",
              "      <th></th>\n",
              "      <th>tag</th>\n",
              "      <th>patterns</th>\n",
              "      <th>responses</th>\n",
              "    </tr>\n",
              "  </thead>\n",
              "  <tbody>\n",
              "    <tr>\n",
              "      <th>0</th>\n",
              "      <td>Abses</td>\n",
              "      <td>[Kucing, Abses]</td>\n",
              "      <td>[Cefotaxime,dexamethason,biosolamin,septo skin...</td>\n",
              "    </tr>\n",
              "    <tr>\n",
              "      <th>1</th>\n",
              "      <td>Abortus</td>\n",
              "      <td>[Kucing, Abortus]</td>\n",
              "      <td>[Vetoxy LA, Vit B-Comp, Sulpidone]</td>\n",
              "    </tr>\n",
              "    <tr>\n",
              "      <th>2</th>\n",
              "      <td>Aggenesis Anni</td>\n",
              "      <td>[Kucing, Aggenesis Anni]</td>\n",
              "      <td>[OP PEMBUATAN ANUS]</td>\n",
              "    </tr>\n",
              "    <tr>\n",
              "      <th>3</th>\n",
              "      <td>Alergi Saluran Nafas</td>\n",
              "      <td>[Kucing, Alergi Saluran Nafas]</td>\n",
              "      <td>[Vitol ADE, Vetadryl, Vit B-Comp]</td>\n",
              "    </tr>\n",
              "    <tr>\n",
              "      <th>4</th>\n",
              "      <td>Anorexia</td>\n",
              "      <td>[Kucing, Anorexia]</td>\n",
              "      <td>[Vit B-Comp]</td>\n",
              "    </tr>\n",
              "    <tr>\n",
              "      <th>...</th>\n",
              "      <td>...</td>\n",
              "      <td>...</td>\n",
              "      <td>...</td>\n",
              "    </tr>\n",
              "    <tr>\n",
              "      <th>80</th>\n",
              "      <td>Sporotrichosis</td>\n",
              "      <td>[Kucing, Sporotrichosis]</td>\n",
              "      <td>[BETAMOX, VETADRYL ]</td>\n",
              "    </tr>\n",
              "    <tr>\n",
              "      <th>81</th>\n",
              "      <td>Sprain</td>\n",
              "      <td>[Kucing, Sprain]</td>\n",
              "      <td>[Bethamox, Vit B-Comp, Dexamethasone]</td>\n",
              "    </tr>\n",
              "    <tr>\n",
              "      <th>82</th>\n",
              "      <td>Tumor</td>\n",
              "      <td>[Kucing, Tumor]</td>\n",
              "      <td>[Operasi angkat tumor, betamox, vitol]</td>\n",
              "    </tr>\n",
              "    <tr>\n",
              "      <th>83</th>\n",
              "      <td>Uveitis</td>\n",
              "      <td>[Kucing, Uveitis]</td>\n",
              "      <td>[LIMOXIN , DEXA , HEMATOPAN BIODIN]</td>\n",
              "    </tr>\n",
              "    <tr>\n",
              "      <th>84</th>\n",
              "      <td>Vulnus</td>\n",
              "      <td>[Kucing, Vulnus]</td>\n",
              "      <td>[Cefotaxime,roborante,dexamethason,biosolamin,...</td>\n",
              "    </tr>\n",
              "  </tbody>\n",
              "</table>\n",
              "<p>85 rows × 3 columns</p>\n",
              "</div>\n",
              "      <button class=\"colab-df-convert\" onclick=\"convertToInteractive('df-7e2ab501-28a8-4e54-8e84-f2400a4328f2')\"\n",
              "              title=\"Convert this dataframe to an interactive table.\"\n",
              "              style=\"display:none;\">\n",
              "        \n",
              "  <svg xmlns=\"http://www.w3.org/2000/svg\" height=\"24px\"viewBox=\"0 0 24 24\"\n",
              "       width=\"24px\">\n",
              "    <path d=\"M0 0h24v24H0V0z\" fill=\"none\"/>\n",
              "    <path d=\"M18.56 5.44l.94 2.06.94-2.06 2.06-.94-2.06-.94-.94-2.06-.94 2.06-2.06.94zm-11 1L8.5 8.5l.94-2.06 2.06-.94-2.06-.94L8.5 2.5l-.94 2.06-2.06.94zm10 10l.94 2.06.94-2.06 2.06-.94-2.06-.94-.94-2.06-.94 2.06-2.06.94z\"/><path d=\"M17.41 7.96l-1.37-1.37c-.4-.4-.92-.59-1.43-.59-.52 0-1.04.2-1.43.59L10.3 9.45l-7.72 7.72c-.78.78-.78 2.05 0 2.83L4 21.41c.39.39.9.59 1.41.59.51 0 1.02-.2 1.41-.59l7.78-7.78 2.81-2.81c.8-.78.8-2.07 0-2.86zM5.41 20L4 18.59l7.72-7.72 1.47 1.35L5.41 20z\"/>\n",
              "  </svg>\n",
              "      </button>\n",
              "      \n",
              "  <style>\n",
              "    .colab-df-container {\n",
              "      display:flex;\n",
              "      flex-wrap:wrap;\n",
              "      gap: 12px;\n",
              "    }\n",
              "\n",
              "    .colab-df-convert {\n",
              "      background-color: #E8F0FE;\n",
              "      border: none;\n",
              "      border-radius: 50%;\n",
              "      cursor: pointer;\n",
              "      display: none;\n",
              "      fill: #1967D2;\n",
              "      height: 32px;\n",
              "      padding: 0 0 0 0;\n",
              "      width: 32px;\n",
              "    }\n",
              "\n",
              "    .colab-df-convert:hover {\n",
              "      background-color: #E2EBFA;\n",
              "      box-shadow: 0px 1px 2px rgba(60, 64, 67, 0.3), 0px 1px 3px 1px rgba(60, 64, 67, 0.15);\n",
              "      fill: #174EA6;\n",
              "    }\n",
              "\n",
              "    [theme=dark] .colab-df-convert {\n",
              "      background-color: #3B4455;\n",
              "      fill: #D2E3FC;\n",
              "    }\n",
              "\n",
              "    [theme=dark] .colab-df-convert:hover {\n",
              "      background-color: #434B5C;\n",
              "      box-shadow: 0px 1px 3px 1px rgba(0, 0, 0, 0.15);\n",
              "      filter: drop-shadow(0px 1px 2px rgba(0, 0, 0, 0.3));\n",
              "      fill: #FFFFFF;\n",
              "    }\n",
              "  </style>\n",
              "\n",
              "      <script>\n",
              "        const buttonEl =\n",
              "          document.querySelector('#df-7e2ab501-28a8-4e54-8e84-f2400a4328f2 button.colab-df-convert');\n",
              "        buttonEl.style.display =\n",
              "          google.colab.kernel.accessAllowed ? 'block' : 'none';\n",
              "\n",
              "        async function convertToInteractive(key) {\n",
              "          const element = document.querySelector('#df-7e2ab501-28a8-4e54-8e84-f2400a4328f2');\n",
              "          const dataTable =\n",
              "            await google.colab.kernel.invokeFunction('convertToInteractive',\n",
              "                                                     [key], {});\n",
              "          if (!dataTable) return;\n",
              "\n",
              "          const docLinkHtml = 'Like what you see? Visit the ' +\n",
              "            '<a target=\"_blank\" href=https://colab.research.google.com/notebooks/data_table.ipynb>data table notebook</a>'\n",
              "            + ' to learn more about interactive tables.';\n",
              "          element.innerHTML = '';\n",
              "          dataTable['output_type'] = 'display_data';\n",
              "          await google.colab.output.renderOutput(dataTable, element);\n",
              "          const docLink = document.createElement('div');\n",
              "          docLink.innerHTML = docLinkHtml;\n",
              "          element.appendChild(docLink);\n",
              "        }\n",
              "      </script>\n",
              "    </div>\n",
              "  </div>\n",
              "  "
            ]
          },
          "metadata": {},
          "execution_count": 45
        }
      ]
    },
    {
      "cell_type": "code",
      "source": [
        "chatbot_anjing.to_json('chatbot_anjing.json', orient='records')\n",
        "chatbot_kucing.to_json('chatbot_kucing.json', orient='records')"
      ],
      "metadata": {
        "id": "90Zhz4bKmSFE"
      },
      "execution_count": 46,
      "outputs": []
    },
    {
      "cell_type": "markdown",
      "source": [
        "## kucing convert"
      ],
      "metadata": {
        "id": "h7AjsTLzmobr"
      }
    },
    {
      "cell_type": "code",
      "source": [],
      "metadata": {
        "id": "-Foz3I87lQYW"
      },
      "execution_count": null,
      "outputs": []
    },
    {
      "cell_type": "code",
      "source": [],
      "metadata": {
        "id": "-bZ2ZmEVlQSv"
      },
      "execution_count": null,
      "outputs": []
    },
    {
      "cell_type": "code",
      "source": [],
      "metadata": {
        "id": "Ysi2hdoHlQNS"
      },
      "execution_count": null,
      "outputs": []
    },
    {
      "cell_type": "code",
      "source": [],
      "metadata": {
        "id": "TT8bZG6rlQJ0"
      },
      "execution_count": null,
      "outputs": []
    }
  ],
  "metadata": {
    "colab": {
      "provenance": []
    },
    "kernelspec": {
      "display_name": "Python 3",
      "name": "python3"
    },
    "language_info": {
      "name": "python"
    }
  },
  "nbformat": 4,
  "nbformat_minor": 0
}